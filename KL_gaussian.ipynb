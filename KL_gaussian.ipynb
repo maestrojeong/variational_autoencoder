{
 "cells": [
  {
   "cell_type": "markdown",
   "metadata": {},
   "source": [
    "# Problem setting\n",
    "\n",
    "$$\\mathcal{KL}(p(x)||q(x))=\\int p(x) \\log \\frac{p(x)}{q(x)} dx$$\n",
    "\n",
    "For $n$ dimension, two gaussian distriubtions $p(x), q(x)$\n",
    "\n",
    "$$p(x) = \\frac{1}{\\sqrt{(2\\pi)^n \\det(\\Sigma_0)}}e^{-\\frac{1}{2}(x-\\mu_0)^T \\Sigma_0^{-1} (x-\\mu_0)},  q(x) = \\frac{1}{\\sqrt{(2\\pi)^n \\det(\\Sigma_1)}}e^{-\\frac{1}{2}(x-\\mu_1)^T \\Sigma_1^{-1} (x-\\mu_1)}$$\n",
    "\n",
    "# Basic information\n",
    "\n",
    "$$r(x)=\\frac{1}{\\sqrt{(2\\pi)^n}}e^{-\\frac{1}{2}x^Tx}$$\n",
    "\n",
    "$$\\int r(x) dx = 1$$\n",
    "$$\\int xr(x) dx = 0$$\n",
    "$$\\int xx^Tr(x) dx = I$$\n",
    "\n",
    "**Lemma 1 ** $$\\int x^TMxr(x) dx = tr(M)$$\n",
    "**Lemma 1 proof**\n",
    "\n",
    "$$\\int x^TMxr(x) dx=\\sum_{i,j} M_{i,j}\\int x_ix_j \\frac{1}{\\sqrt{(2\\pi)^n}}e^{-\\frac{1}{2}(x_1^2+x_2^2+\\cdots+x_n^2)}dx$$\n",
    "\n",
    "If $i\\neq j$, term becomes $0$, as $\\int x_j\\frac{1}{\\sqrt{2\\pi}}e^{-\\frac{1}{2}x_i^2}dx = 0$\n",
    "\n",
    "If $i=j$, term become 1, as $\\int x_i^2 \\frac{1}{\\sqrt{2\\pi}}e^{-\\frac{1}{2}x_i^2}dx = 1$\n",
    "\n",
    "$$=\\sum_{i,i}M_{i,i}=tr(M)$$\n",
    "\n",
    "** lemma2**\n",
    "\n",
    "$$\\Sigma_0^{-1}=B^TB$$(positive definite => grammian)\n",
    "\n",
    "# Problem proof\n",
    "\n",
    "$$\\mathcal{KL}(p(x)||q(x))=\\int -\\frac{1}{2}p(x)\\Big{(}(x-\\mu_0)^T\\Sigma_0^{-1}(x-\\mu_0)-(x-\\mu_1)^T\\Sigma_1^{-1}(x-\\mu_1) \\Big{)}dx+\\int p(x)\\log\\sqrt{\\frac{\\det(\\Sigma_1)}{\\det(\\Sigma_0)}} dx$$\n",
    "\n",
    "$$=\\int -\\frac{1}{2} p(x)\\Big{(}(x-\\mu_0)^T\\Sigma_0^{-1}(x-\\mu_0)-(x-\\mu_1)^T\\Sigma_1^{-1}(x-\\mu_1) \\Big{)}dx+\\frac{1}{2}\\log\\frac{\\det(\\Sigma_1)}{\\det(\\Sigma_0)}\\int p(x) dx$$\n",
    "\n",
    "$y=B(x-\\mu_0)$\n",
    "\n",
    "$$= -\\frac{1}{2}\\int \\frac{1}{(2\\pi)^{n/2}|B|^{-1}}e^{-\\frac{1}{2}y^Ty}\\Big{(}y^T y- (B^{-1}y+\\mu_0-\\mu_1)^T\\Sigma_1^{-1}(B^{-1}y+\\mu_0-\\mu_1) \\Big{)}|B|^{-1}dy+\\frac{1}{2}\\log\\frac{\\det(\\Sigma_1)}{\\det(\\Sigma_0)}$$\n",
    "\n",
    "$$= -\\frac{1}{2}\\int r(y)\\Big{(}y^T y- (B^{-1}y+\\mu_0-\\mu_1)^T\\Sigma_1^{-1}(B^{-1}y+\\mu_0-\\mu_1) \\Big{)}dy+\\frac{1}{2}\\log\\frac{\\det(\\Sigma_1)}{\\det(\\Sigma_0)}$$\n",
    "\n",
    "$$= -\\frac{1}{2} \\Big{(}\\int y^Tyr(y)dy- \\int y^T(B^{-1})^T\\Sigma_1^{-1}B^{-1}yr(y)dy - \\int (\\mu_0-\\mu_1)^T\\Sigma_1^{-1}(\\mu_0-\\mu_1)dy\\Big{)}+\\frac{1}{2}\\log\\frac{\\det(\\Sigma_1)}{\\det(\\Sigma_0)}$$\n",
    "\n",
    "$$= -\\frac{1}{2} \\Big{(}n- tr\\big{(}(B^{-1})^T\\Sigma_1^{-1}B^{-1}\\big{)} - (\\mu_0-\\mu_1)^T\\Sigma_1^{-1}(\\mu_0-\\mu_1)\\Big{)}+\\frac{1}{2}\\log\\frac{\\det(\\Sigma_1)}{\\det(\\Sigma_0)}$$\n",
    "\n",
    "$tr(AB)=tr(BA)$\n",
    "\n",
    "$$= -\\frac{1}{2} \\Big{(}n- tr\\big{(}\\Sigma_1^{-1}B^{-1}(B^{-1})^T\\big{)} - (\\mu_0-\\mu_1)^T\\Sigma_1^{-1}(\\mu_0-\\mu_1)\\Big{)}+\\frac{1}{2}\\log\\frac{\\det(\\Sigma_1)}{\\det(\\Sigma_0)}$$\n",
    "\n",
    "$$= -\\frac{1}{2} \\Big{(}n- tr\\big{(}\\Sigma_1^{-1}(BB^T)^{-1}\\big{)} - (\\mu_0-\\mu_1)^T\\Sigma_1^{-1}(\\mu_0-\\mu_1)\\Big{)}+\\frac{1}{2}\\log\\frac{\\det(\\Sigma_1)}{\\det(\\Sigma_0)}$$\n",
    "$$= -\\frac{1}{2} \\Big{(}n- tr\\big{(}\\Sigma_1^{-1}\\Sigma_0\\big{)} - (\\mu_0-\\mu_1)^T\\Sigma_1^{-1}(\\mu_0-\\mu_1)\\Big{)}+\\frac{1}{2}\\log\\frac{\\det(\\Sigma_1)}{\\det(\\Sigma_0)}$$\n",
    "\n",
    "$$= \\frac{1}{2} \\Big{(}\\log\\frac{\\det(\\Sigma_1)}{\\det(\\Sigma_0)}-n+tr\\big{(}\\Sigma_1^{-1}\\Sigma_0\\big{)} + (\\mu_0-\\mu_1)^T\\Sigma_1^{-1}(\\mu_0-\\mu_1)\\Big{)}$$"
   ]
  }
 ],
 "metadata": {
  "kernelspec": {
   "display_name": "Python 3",
   "language": "python",
   "name": "python3"
  },
  "language_info": {
   "codemirror_mode": {
    "name": "ipython",
    "version": 3
   },
   "file_extension": ".py",
   "mimetype": "text/x-python",
   "name": "python",
   "nbconvert_exporter": "python",
   "pygments_lexer": "ipython3",
   "version": "3.6.1"
  }
 },
 "nbformat": 4,
 "nbformat_minor": 2
}
